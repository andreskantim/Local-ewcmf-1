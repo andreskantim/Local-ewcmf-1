{
 "cells": [
  {
   "cell_type": "code",
   "execution_count": 9,
   "id": "96a8a7ed-0623-44f3-bbf6-1f9e78dd5274",
   "metadata": {},
   "outputs": [],
   "source": [
    "import numpy as np\n",
    "import pandas as pd\n",
    "import matplotlib.pyplot as plt\n",
    "from pandas.tseries.offsets import Hour\n",
    "from datetime import datetime\n",
    "import os"
   ]
  },
  {
   "cell_type": "code",
   "execution_count": 10,
   "id": "13dbfc1b-0a01-417b-a6b0-5f9a4d9f2f3e",
   "metadata": {},
   "outputs": [],
   "source": [
    "zona_boletin = 'cantabria'\n",
    "fecha_boletin = '2023'    \n",
    "ruta_entrada = f'/home/andreskantim/ecmwf/datasets/modelo/{zona_boletin}/{fecha_boletin}/'\n",
    "archivo_entrada = ruta_entrada + f'{fecha_boletin}.csv'"
   ]
  },
  {
   "cell_type": "code",
   "execution_count": 11,
   "id": "9a6d07e7-b1cf-4677-b324-cafc6c55c871",
   "metadata": {},
   "outputs": [],
   "source": [
    "def med_ang(var_angular):\n",
    "\n",
    "    df['cos'] = np.cos(np.radians(var_angular))\n",
    "    df['sin'] = np.sin(np.radians(var_angular))\n",
    "\n",
    "    # Calcular la media de los componentes\n",
    "    mean_cos = df['cos'].mean()\n",
    "    mean_sin = df['sin'].mean()\n",
    "\n",
    "    df.drop(columns=['sin', 'cos'], inplace=True)\n",
    "\n",
    "    # Convertir las medias de los componentes de vuelta a un ángulo\n",
    "    mean_direction = np.degrees(np.arctan2(mean_sin, mean_cos))\n",
    "    # Normalizar el resultado para que esté en el rango [0, 360)\n",
    "    mean_direction = mean_direction % 360\n",
    "    \n",
    "    return mean_direction"
   ]
  },
  {
   "cell_type": "code",
   "execution_count": 12,
   "id": "432d68ba-b577-40fa-af70-a14ca7cbe95f",
   "metadata": {},
   "outputs": [],
   "source": [
    "df=pd.read_csv(archivo_entrada, index_col=[ 'date', 'latitude', 'longitude'])"
   ]
  },
  {
   "cell_type": "code",
   "execution_count": 13,
   "id": "e5d85fac-da0e-4e5e-aafd-c893399a8d87",
   "metadata": {},
   "outputs": [],
   "source": [
    "def med_ang(var_angular):\n",
    "\n",
    "    df['cos'] = np.cos(np.radians(var_angular))\n",
    "    df['sin'] = np.sin(np.radians(var_angular))\n",
    "\n",
    "    # Calcular la media de los componentes\n",
    "    mean_cos = df['cos'].mean()\n",
    "    mean_sin = df['sin'].mean()\n",
    "\n",
    "    df.drop(columns=['sin', 'cos'], inplace=True)\n",
    "\n",
    "    # Convertir las medias de los componentes de vuelta a un ángulo\n",
    "    mean_direction = np.degrees(np.arctan2(mean_sin, mean_cos))\n",
    "    # Normalizar el resultado para que esté en el rango [0, 360)\n",
    "    mean_direction = mean_direction % 360\n",
    "    \n",
    "    return mean_direction"
   ]
  },
  {
   "cell_type": "code",
   "execution_count": 14,
   "id": "f3d410d4-bcb0-4ca9-b83d-0cbebd8c62ad",
   "metadata": {},
   "outputs": [
    {
     "name": "stdout",
     "output_type": "stream",
     "text": [
      "335.9334985001059\n"
     ]
    }
   ],
   "source": [
    "med_dwi=med_ang(df['dwi'])\n",
    "print(med_dwi)"
   ]
  },
  {
   "cell_type": "code",
   "execution_count": null,
   "id": "9f4960c0-2587-4dbd-8232-50ecdd8e433d",
   "metadata": {},
   "outputs": [],
   "source": [
    "# Asegurarse de que 'date' sea tipo datetime\n",
    "df['date'] = pd.to_datetime(df['date'])\n",
    "\n",
    "# Establecer 'date' como índice para poder usar resample\n",
    "df.set_index('date', inplace=True)\n",
    "\n",
    "# Calcular promedio diario. No necesitas especificar 'level' aquí ya que 'date' es el índice\n",
    "df = df.resample('D').mean()\n",
    "\n",
    "df = df.resample('D', level='date').mean()\n",
    "# df=df.reset.index()\n",
    "media_lat_long = df.groupby('date').mean()\n",
    "\n",
    "# # Media latitudinal y longitudinal\n",
    "media_lat_long = df.groupby(df.index.get_level_values('date')).mean()\n",
    "\n",
    "\n",
    "media_movil_7d = media_lat_long.rolling(window=7).mean()\n"
   ]
  },
  {
   "cell_type": "code",
   "execution_count": null,
   "id": "467dc865-cf36-4867-80ea-db40652503df",
   "metadata": {},
   "outputs": [],
   "source": [
    "variables = ['dwi', 'wind', 'shww', 'mdts', 'shts']\n",
    "for var in variables:\n",
    "    plt.figure(figsize=(10,6))\n",
    "    media_movil_7d[var].plot(title=f'Media móvil de 7 días para {var}')\n",
    "    plt.ylabel(var)\n",
    "    plt.xlabel('Fecha')\n",
    "    plt.show()"
   ]
  },
  {
   "cell_type": "code",
   "execution_count": null,
   "id": "6db52daa-618f-4623-9147-8362bdc87203",
   "metadata": {},
   "outputs": [],
   "source": [
    "fig, ax1 = plt.subplots(figsize=(12, 6))\n",
    "\n",
    "color = 'tab:green'\n",
    "ax1.set_xlabel('Fecha')\n",
    "ax1.set_ylabel('shts', color=color)\n",
    "ax1.plot(media_movil_7d.index, media_movil_7d['shts'], color=color, label='shts (media móvil 7 días)')\n",
    "ax1.tick_params(axis='y', labelcolor=color)\n",
    "\n",
    "# Instancia un segundo eje que comparte el mismo eje x\n",
    "ax2 = ax1.twinx()\n",
    "color = 'tab:blue'\n",
    "ax2.set_ylabel('shww', color=color)\n",
    "ax2.plot(media_movil_7d.index, media_movil_7d['shww'], color=color, label='shww (media móvil 7 días)')\n",
    "ax2.tick_params(axis='y', labelcolor=color)\n",
    "\n",
    "# Añade las leyendas\n",
    "lines, labels = ax1.get_legend_handles_labels()\n",
    "lines2, labels2 = ax2.get_legend_handles_labels()\n",
    "ax2.legend(lines + lines2, labels + labels2, loc='upper left')\n",
    "\n",
    "# Título del gráfico\n",
    "plt.title('Comparación de shts y shww (Media móvil de 7 días)')\n",
    "\n",
    "plt.show()"
   ]
  }
 ],
 "metadata": {
  "kernelspec": {
   "display_name": "Python 3 (ipykernel)",
   "language": "python",
   "name": "python3"
  },
  "language_info": {
   "codemirror_mode": {
    "name": "ipython",
    "version": 3
   },
   "file_extension": ".py",
   "mimetype": "text/x-python",
   "name": "python",
   "nbconvert_exporter": "python",
   "pygments_lexer": "ipython3",
   "version": "3.12.2"
  }
 },
 "nbformat": 4,
 "nbformat_minor": 5
}
